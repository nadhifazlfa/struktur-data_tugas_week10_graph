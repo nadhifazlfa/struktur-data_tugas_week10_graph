{
  "nbformat": 4,
  "nbformat_minor": 0,
  "metadata": {
    "colab": {
      "provenance": [],
      "authorship_tag": "ABX9TyPGAT2XfiUGLZg5IM3eavPx",
      "include_colab_link": true
    },
    "kernelspec": {
      "name": "python3",
      "display_name": "Python 3"
    },
    "language_info": {
      "name": "python"
    }
  },
  "cells": [
    {
      "cell_type": "markdown",
      "metadata": {
        "id": "view-in-github",
        "colab_type": "text"
      },
      "source": [
        "<a href=\"https://colab.research.google.com/github/nadhifazlfa/struktur-data_tugas_week10_graph/blob/main/struktur_data_tugas_week10_graph.ipynb\" target=\"_parent\"><img src=\"https://colab.research.google.com/assets/colab-badge.svg\" alt=\"Open In Colab\"/></a>"
      ]
    },
    {
      "cell_type": "code",
      "execution_count": null,
      "metadata": {
        "colab": {
          "base_uri": "https://localhost:8080/"
        },
        "id": "tDKKrwxT2QYD",
        "outputId": "b1cd3951-6913-4282-c81e-3c3faca312fd"
      },
      "outputs": [
        {
          "output_type": "stream",
          "name": "stdout",
          "text": [
            "Graf:\n",
            "A: B, C\n",
            "B: A, D, E\n",
            "C: A, D\n",
            "D: B, C, E\n",
            "E: B, D\n",
            "\n",
            "BFS dari simpul 'A': ['A', 'B', 'C', 'D', 'E']\n",
            "DFS dari simpul 'A': ['A', 'B', 'D', 'C', 'E']\n",
            "\n",
            "Path dari 'A' ke 'E': ['A', 'B', 'D', 'E']\n",
            "\n",
            "Apakah graf terhubung?: True\n"
          ]
        }
      ],
      "source": [
        "# Tugas\n",
        "# 1. Buat graf tak berarah baru dengan minimal 5 simpul dan 7 sisi, lalu tampilkan dengan fungsi print_graph\n",
        "def print_graph(graph):\n",
        "    for node, neighbors in graph.items():\n",
        "        print(f\"{node}: {', '.join(neighbors)}\")\n",
        "\n",
        "# Graf tak berarah dengan 5 simpul dan 7 sisi\n",
        "graph = {\n",
        "    'A': ['B', 'C'],\n",
        "    'B': ['A', 'D', 'E'],\n",
        "    'C': ['A', 'D'],\n",
        "    'D': ['B', 'C', 'E'],\n",
        "    'E': ['B', 'D']\n",
        "}\n",
        "\n",
        "print(\"Graf:\")\n",
        "print_graph(graph)\n",
        "\n",
        "# 2. Implementasi BFS dan DFS dari simpul awal pilihan Anda\n",
        "from collections import deque\n",
        "\n",
        "def bfs(graph, start):\n",
        "    visited = []\n",
        "    queue = deque([start])\n",
        "\n",
        "    while queue:\n",
        "        node = queue.popleft()\n",
        "        if node not in visited:\n",
        "            visited.append(node)\n",
        "            queue.extend(n for n in graph[node] if n not in visited)\n",
        "\n",
        "    return visited\n",
        "\n",
        "def dfs(graph, start, visited=None):\n",
        "    if visited is None:\n",
        "        visited = []\n",
        "    visited.append(start)\n",
        "    for neighbor in graph[start]:\n",
        "        if neighbor not in visited:\n",
        "            dfs(graph, neighbor, visited)\n",
        "    return visited\n",
        "\n",
        "# Contoh penggunaan BFS dan DFS\n",
        "print(\"\\nBFS dari simpul 'A':\", bfs(graph, 'A'))\n",
        "print(\"DFS dari simpul 'A':\", dfs(graph, 'A'))\n",
        "\n",
        "# 3. Modifikasi fungsi BFS agar mengembalikan list urutan kunjungan\n",
        "# (fungsi BFS di atas sudah sesuai karena mengembalikan `visited` berupa list urutan kunjungan)\n",
        "\n",
        "def bfs_list(graph, start):\n",
        "    visited = set()\n",
        "    queue = deque([start])\n",
        "    order = []\n",
        "\n",
        "    while queue:\n",
        "        vertex = queue.popleft()\n",
        "        if vertex not in visited:\n",
        "           order.append(vertex)\n",
        "           visited.add(vertex)\n",
        "           queue.extend([neighbor for neighbor in graph[vertex] if neighbor not in visited])\n",
        "    return order\n",
        "\n",
        "# 4. Buat fungsi find_path untuk mencari satu jalur menggunakan DFS\n",
        "def find_path(graph, start, end, path=None):\n",
        "    if path is None:\n",
        "        path = []\n",
        "    path = path + [start]\n",
        "\n",
        "    if start == end:\n",
        "        return path\n",
        "\n",
        "    for neighbor in graph[start]:\n",
        "        if neighbor not in path:\n",
        "            new_path = find_path(graph, neighbor, end, path)\n",
        "            if new_path:\n",
        "                return new_path\n",
        "\n",
        "    return None\n",
        "\n",
        "# Contoh penggunaan find_path\n",
        "print(\"\\nPath dari 'A' ke 'E':\", find_path(graph, 'A', 'E'))\n",
        "\n",
        "# 5. Tambahkan fungsi is_connected untuk mengecek apakah semua simpul dalam graf saling terhubung\n",
        "def is_connected(graph):\n",
        "    all_nodes = set(graph.keys())\n",
        "    visited = set(dfs(graph, next(iter(graph))))  # DFS dari simpul pertama\n",
        "    return all_nodes == visited\n",
        "\n",
        "# Contoh penggunaan is_connected\n",
        "print(\"\\nApakah graf terhubung?:\", is_connected(graph))"
      ]
    }
  ]
}